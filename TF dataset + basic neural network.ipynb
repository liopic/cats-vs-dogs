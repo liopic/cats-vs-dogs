{
 "cells": [
  {
   "cell_type": "code",
   "execution_count": 1,
   "metadata": {},
   "outputs": [
    {
     "name": "stdout",
     "output_type": "stream",
     "text": [
      "Requirement already satisfied: tensorflow-datasets in /home/julio/anaconda3/lib/python3.8/site-packages (4.2.0)\n",
      "Requirement already satisfied: six in /home/julio/anaconda3/lib/python3.8/site-packages (from tensorflow-datasets) (1.15.0)\n",
      "Requirement already satisfied: termcolor in /home/julio/anaconda3/lib/python3.8/site-packages (from tensorflow-datasets) (1.1.0)\n",
      "Requirement already satisfied: numpy in /home/julio/anaconda3/lib/python3.8/site-packages (from tensorflow-datasets) (1.18.5)\n",
      "Requirement already satisfied: requests>=2.19.0 in /home/julio/anaconda3/lib/python3.8/site-packages (from tensorflow-datasets) (2.24.0)\n",
      "Requirement already satisfied: dill in /home/julio/anaconda3/lib/python3.8/site-packages (from tensorflow-datasets) (0.3.3)\n",
      "Requirement already satisfied: tqdm in /home/julio/anaconda3/lib/python3.8/site-packages (from tensorflow-datasets) (4.47.0)\n",
      "Requirement already satisfied: protobuf>=3.12.2 in /home/julio/anaconda3/lib/python3.8/site-packages (from tensorflow-datasets) (3.13.0)\n",
      "Requirement already satisfied: importlib-resources; python_version < \"3.9\" in /home/julio/anaconda3/lib/python3.8/site-packages (from tensorflow-datasets) (5.0.0)\n",
      "Requirement already satisfied: absl-py in /home/julio/anaconda3/lib/python3.8/site-packages (from tensorflow-datasets) (0.11.0)\n",
      "Requirement already satisfied: attrs>=18.1.0 in /home/julio/anaconda3/lib/python3.8/site-packages (from tensorflow-datasets) (19.3.0)\n",
      "Requirement already satisfied: tensorflow-metadata in /home/julio/anaconda3/lib/python3.8/site-packages (from tensorflow-datasets) (0.26.0)\n",
      "Requirement already satisfied: promise in /home/julio/anaconda3/lib/python3.8/site-packages (from tensorflow-datasets) (2.3)\n",
      "Requirement already satisfied: future in /home/julio/anaconda3/lib/python3.8/site-packages (from tensorflow-datasets) (0.18.2)\n",
      "Requirement already satisfied: certifi>=2017.4.17 in /home/julio/anaconda3/lib/python3.8/site-packages (from requests>=2.19.0->tensorflow-datasets) (2020.6.20)\n",
      "Requirement already satisfied: chardet<4,>=3.0.2 in /home/julio/anaconda3/lib/python3.8/site-packages (from requests>=2.19.0->tensorflow-datasets) (3.0.4)\n",
      "Requirement already satisfied: idna<3,>=2.5 in /home/julio/anaconda3/lib/python3.8/site-packages (from requests>=2.19.0->tensorflow-datasets) (2.10)\n",
      "Requirement already satisfied: urllib3!=1.25.0,!=1.25.1,<1.26,>=1.21.1 in /home/julio/anaconda3/lib/python3.8/site-packages (from requests>=2.19.0->tensorflow-datasets) (1.25.9)\n",
      "Requirement already satisfied: setuptools in /home/julio/anaconda3/lib/python3.8/site-packages (from protobuf>=3.12.2->tensorflow-datasets) (49.2.0.post20200714)\n",
      "Requirement already satisfied: googleapis-common-protos<2,>=1.52.0 in /home/julio/anaconda3/lib/python3.8/site-packages (from tensorflow-metadata->tensorflow-datasets) (1.52.0)\n"
     ]
    }
   ],
   "source": [
    "!pip install tensorflow-datasets"
   ]
  },
  {
   "cell_type": "code",
   "execution_count": 2,
   "metadata": {},
   "outputs": [],
   "source": [
    "import matplotlib.pyplot as plt\n",
    "import numpy as np\n",
    "import tensorflow as tf\n",
    "\n",
    "import tensorflow_datasets as tfds\n",
    "\n",
    "from PIL import Image"
   ]
  },
  {
   "cell_type": "code",
   "execution_count": 3,
   "metadata": {},
   "outputs": [
    {
     "name": "stdout",
     "output_type": "stream",
     "text": [
      "Numpy version:  1.18.5\n",
      "TF version:  2.3.1\n",
      "TF datasets version:  4.2.0\n"
     ]
    }
   ],
   "source": [
    "print(\"Numpy version: \", np.__version__)\n",
    "print(\"TF version: \", tf.__version__)\n",
    "print(\"TF datasets version: \", tfds.__version__)"
   ]
  },
  {
   "cell_type": "markdown",
   "metadata": {},
   "source": [
    "# Explore cats_vs_dogs dataset"
   ]
  },
  {
   "cell_type": "code",
   "execution_count": 4,
   "metadata": {},
   "outputs": [],
   "source": [
    "ds = tfds.load('cats_vs_dogs', shuffle_files=True)"
   ]
  },
  {
   "cell_type": "code",
   "execution_count": 5,
   "metadata": {},
   "outputs": [
    {
     "data": {
      "text/plain": [
       "{'train': <_OptionsDataset shapes: {image: (None, None, 3), image/filename: (), label: ()}, types: {image: tf.uint8, image/filename: tf.string, label: tf.int64}>}"
      ]
     },
     "execution_count": 5,
     "metadata": {},
     "output_type": "execute_result"
    }
   ],
   "source": [
    "ds"
   ]
  },
  {
   "cell_type": "code",
   "execution_count": 6,
   "metadata": {},
   "outputs": [
    {
     "data": {
      "text/plain": [
       "{'image': <tf.Tensor: shape=(300, 400, 3), dtype=uint8, numpy=\n",
       " array([[[ 13,  13,  13],\n",
       "         [ 17,  17,  17],\n",
       "         [ 20,  20,  20],\n",
       "         ...,\n",
       "         [ 72,  72,  72],\n",
       "         [ 71,  71,  71],\n",
       "         [ 71,  71,  71]],\n",
       " \n",
       "        [[ 15,  15,  15],\n",
       "         [ 18,  18,  18],\n",
       "         [ 20,  20,  20],\n",
       "         ...,\n",
       "         [ 75,  75,  75],\n",
       "         [ 76,  76,  76],\n",
       "         [ 76,  76,  76]],\n",
       " \n",
       "        [[ 16,  16,  16],\n",
       "         [ 18,  18,  18],\n",
       "         [ 19,  19,  19],\n",
       "         ...,\n",
       "         [ 72,  72,  72],\n",
       "         [ 68,  68,  68],\n",
       "         [ 66,  66,  66]],\n",
       " \n",
       "        ...,\n",
       " \n",
       "        [[133, 133, 133],\n",
       "         [134, 134, 134],\n",
       "         [137, 137, 137],\n",
       "         ...,\n",
       "         [194, 194, 194],\n",
       "         [192, 192, 192],\n",
       "         [193, 193, 193]],\n",
       " \n",
       "        [[136, 136, 136],\n",
       "         [138, 138, 138],\n",
       "         [141, 141, 141],\n",
       "         ...,\n",
       "         [191, 191, 191],\n",
       "         [190, 190, 190],\n",
       "         [191, 191, 191]],\n",
       " \n",
       "        [[135, 135, 135],\n",
       "         [138, 138, 138],\n",
       "         [142, 142, 142],\n",
       "         ...,\n",
       "         [189, 189, 189],\n",
       "         [188, 188, 188],\n",
       "         [189, 189, 189]]], dtype=uint8)>,\n",
       " 'image/filename': <tf.Tensor: shape=(), dtype=string, numpy=b'PetImages/Dog/12006.jpg'>,\n",
       " 'label': <tf.Tensor: shape=(), dtype=int64, numpy=1>}"
      ]
     },
     "execution_count": 6,
     "metadata": {},
     "output_type": "execute_result"
    }
   ],
   "source": [
    "for example in ds['train']:\n",
    "    one = example\n",
    "    break\n",
    "one"
   ]
  },
  {
   "cell_type": "code",
   "execution_count": 7,
   "metadata": {},
   "outputs": [
    {
     "data": {
      "text/plain": [
       "<matplotlib.image.AxesImage at 0x7fb7ec03bcd0>"
      ]
     },
     "execution_count": 7,
     "metadata": {},
     "output_type": "execute_result"
    },
    {
     "data": {
      "image/png": "[encoded data removed]",
      "text/plain": [
       "<Figure size 432x288 with 1 Axes>"
      ]
     },
     "metadata": {
      "needs_background": "light"
     },
     "output_type": "display_data"
    }
   ],
   "source": [
    "plt.imshow(one['image'])"
   ]
  },
  {
   "cell_type": "code",
   "execution_count": 8,
   "metadata": {},
   "outputs": [
    {
     "data": {
      "text/plain": [
       "array([[[ 13,  13,  13],\n",
       "        [ 17,  17,  17],\n",
       "        [ 20,  20,  20],\n",
       "        ...,\n",
       "        [ 72,  72,  72],\n",
       "        [ 71,  71,  71],\n",
       "        [ 71,  71,  71]],\n",
       "\n",
       "       [[ 15,  15,  15],\n",
       "        [ 18,  18,  18],\n",
       "        [ 20,  20,  20],\n",
       "        ...,\n",
       "        [ 75,  75,  75],\n",
       "        [ 76,  76,  76],\n",
       "        [ 76,  76,  76]],\n",
       "\n",
       "       [[ 16,  16,  16],\n",
       "        [ 18,  18,  18],\n",
       "        [ 19,  19,  19],\n",
       "        ...,\n",
       "        [ 72,  72,  72],\n",
       "        [ 68,  68,  68],\n",
       "        [ 66,  66,  66]],\n",
       "\n",
       "       ...,\n",
       "\n",
       "       [[133, 133, 133],\n",
       "        [134, 134, 134],\n",
       "        [137, 137, 137],\n",
       "        ...,\n",
       "        [194, 194, 194],\n",
       "        [192, 192, 192],\n",
       "        [193, 193, 193]],\n",
       "\n",
       "       [[136, 136, 136],\n",
       "        [138, 138, 138],\n",
       "        [141, 141, 141],\n",
       "        ...,\n",
       "        [191, 191, 191],\n",
       "        [190, 190, 190],\n",
       "        [191, 191, 191]],\n",
       "\n",
       "       [[135, 135, 135],\n",
       "        [138, 138, 138],\n",
       "        [142, 142, 142],\n",
       "        ...,\n",
       "        [189, 189, 189],\n",
       "        [188, 188, 188],\n",
       "        [189, 189, 189]]], dtype=uint8)"
      ]
     },
     "execution_count": 8,
     "metadata": {},
     "output_type": "execute_result"
    }
   ],
   "source": [
    "one['image'].numpy()"
   ]
  },
  {
   "cell_type": "code",
   "execution_count": 9,
   "metadata": {},
   "outputs": [
    {
     "data": {
      "text/plain": [
       "<tf.Tensor: shape=(), dtype=int64, numpy=1>"
      ]
     },
     "execution_count": 9,
     "metadata": {},
     "output_type": "execute_result"
    }
   ],
   "source": [
    "one['label']"
   ]
  },
  {
   "cell_type": "markdown",
   "metadata": {},
   "source": [
    "0 = cat\n",
    "\n",
    "1 = dog"
   ]
  },
  {
   "cell_type": "code",
   "execution_count": 10,
   "metadata": {},
   "outputs": [],
   "source": [
    "im = Image.fromarray(one['image'].numpy())"
   ]
  },
  {
   "cell_type": "code",
   "execution_count": 11,
   "metadata": {},
   "outputs": [
    {
     "data": {
      "image/png": "[encoded data removed]",
      "text/plain": [
       "<PIL.Image.Image image mode=RGB size=128x128 at 0x7FB8491A6490>"
      ]
     },
     "execution_count": 11,
     "metadata": {},
     "output_type": "execute_result"
    }
   ],
   "source": [
    "im.resize((128, 128), Image.BICUBIC)"
   ]
  },
  {
   "cell_type": "markdown",
   "metadata": {},
   "source": [
    "# Preprocesing dataset\n",
    "\n",
    "- Take 10000 as sample\n",
    "- Resize to 64x64\n",
    "- RGB intensity is (0-255), so make it (0-1)\n",
    "- Convert both images and labes to numpy arrays, as TF can work only with np arrays or tensors, but not python lists"
   ]
  },
  {
   "cell_type": "code",
   "execution_count": 26,
   "metadata": {},
   "outputs": [
    {
     "data": {
      "text/plain": [
       "10000"
      ]
     },
     "execution_count": 26,
     "metadata": {},
     "output_type": "execute_result"
    }
   ],
   "source": [
    "# Take 10000\n",
    "\n",
    "samples = [x for _, x in zip(range(10000), ds['train'])]\n",
    "\n",
    "len(samples)"
   ]
  },
  {
   "cell_type": "code",
   "execution_count": 27,
   "metadata": {},
   "outputs": [],
   "source": [
    "images = []\n",
    "labels = []\n",
    "\n",
    "for sample in samples:\n",
    "    image_as_array = sample['image'].numpy()\n",
    "    im = Image.fromarray(image_as_array)\n",
    "    resized = im.resize((64, 64), Image.BICUBIC)\n",
    "    resize_as_array = np.asarray(resized)\n",
    "    images.append(resize_as_array)\n",
    "    \n",
    "    labels.append(sample['label'])\n"
   ]
  },
  {
   "cell_type": "code",
   "execution_count": 28,
   "metadata": {},
   "outputs": [
    {
     "data": {
      "text/plain": [
       "array([[[216, 220, 218],\n",
       "        [116, 115, 109],\n",
       "        [ 90,  84,  75],\n",
       "        ...,\n",
       "        [183, 180, 132],\n",
       "        [208, 199, 156],\n",
       "        [194, 181, 135]],\n",
       "\n",
       "       [[151, 152, 148],\n",
       "        [ 87,  87,  82],\n",
       "        [ 85,  86,  82],\n",
       "        ...,\n",
       "        [177, 176, 127],\n",
       "        [179, 178, 131],\n",
       "        [178, 175, 127]],\n",
       "\n",
       "       [[ 98,  95,  88],\n",
       "        [ 81,  84,  81],\n",
       "        [ 81,  91,  93],\n",
       "        ...,\n",
       "        [187, 182, 134],\n",
       "        [171, 173, 124],\n",
       "        [160, 163, 115]],\n",
       "\n",
       "       ...,\n",
       "\n",
       "       [[141, 147, 105],\n",
       "        [113, 119,  75],\n",
       "        [146, 154, 105],\n",
       "        ...,\n",
       "        [ 90, 115,  81],\n",
       "        [ 95, 110,  93],\n",
       "        [ 48,  63,  55]],\n",
       "\n",
       "       [[159, 160, 111],\n",
       "        [157, 161, 112],\n",
       "        [168, 173, 131],\n",
       "        ...,\n",
       "        [107, 128,  85],\n",
       "        [127, 137, 110],\n",
       "        [127, 131, 106]],\n",
       "\n",
       "       [[156, 152, 101],\n",
       "        [154, 161, 107],\n",
       "        [137, 142,  99],\n",
       "        ...,\n",
       "        [ 80, 101,  66],\n",
       "        [ 69,  86,  60],\n",
       "        [101, 107,  79]]], dtype=uint8)"
      ]
     },
     "execution_count": 28,
     "metadata": {},
     "output_type": "execute_result"
    }
   ],
   "source": [
    "images[0]"
   ]
  },
  {
   "cell_type": "code",
   "execution_count": 29,
   "metadata": {},
   "outputs": [
    {
     "data": {
      "text/plain": [
       "<matplotlib.image.AxesImage at 0x7fb7347a4ca0>"
      ]
     },
     "execution_count": 29,
     "metadata": {},
     "output_type": "execute_result"
    },
    {
     "data": {
      "image/png": "[encoded data removed]",
      "text/plain": [
       "<Figure size 432x288 with 1 Axes>"
      ]
     },
     "metadata": {
      "needs_background": "light"
     },
     "output_type": "display_data"
    }
   ],
   "source": [
    "plt.imshow(images[0])"
   ]
  },
  {
   "cell_type": "code",
   "execution_count": 30,
   "metadata": {},
   "outputs": [
    {
     "data": {
      "text/plain": [
       "<tf.Tensor: shape=(), dtype=int64, numpy=1>"
      ]
     },
     "execution_count": 30,
     "metadata": {},
     "output_type": "execute_result"
    }
   ],
   "source": [
    "labels[0]"
   ]
  },
  {
   "cell_type": "code",
   "execution_count": 31,
   "metadata": {},
   "outputs": [
    {
     "data": {
      "text/plain": [
       "<matplotlib.image.AxesImage at 0x7fb7346fde50>"
      ]
     },
     "execution_count": 31,
     "metadata": {},
     "output_type": "execute_result"
    },
    {
     "data": {
      "image/png": "[encoded data removed]",
      "text/plain": [
       "<Figure size 432x288 with 1 Axes>"
      ]
     },
     "metadata": {
      "needs_background": "light"
     },
     "output_type": "display_data"
    }
   ],
   "source": [
    "plt.imshow(images[2])"
   ]
  },
  {
   "cell_type": "code",
   "execution_count": 32,
   "metadata": {},
   "outputs": [
    {
     "data": {
      "text/plain": [
       "<tf.Tensor: shape=(), dtype=int64, numpy=1>"
      ]
     },
     "execution_count": 32,
     "metadata": {},
     "output_type": "execute_result"
    }
   ],
   "source": [
    "labels[2]"
   ]
  },
  {
   "cell_type": "code",
   "execution_count": 33,
   "metadata": {},
   "outputs": [],
   "source": [
    "images = np.array(images)"
   ]
  },
  {
   "cell_type": "code",
   "execution_count": 34,
   "metadata": {},
   "outputs": [],
   "source": [
    "images = images/255.0"
   ]
  },
  {
   "cell_type": "code",
   "execution_count": 35,
   "metadata": {},
   "outputs": [
    {
     "data": {
      "text/plain": [
       "array([[[0.84705882, 0.8627451 , 0.85490196],\n",
       "        [0.45490196, 0.45098039, 0.42745098],\n",
       "        [0.35294118, 0.32941176, 0.29411765],\n",
       "        ...,\n",
       "        [0.71764706, 0.70588235, 0.51764706],\n",
       "        [0.81568627, 0.78039216, 0.61176471],\n",
       "        [0.76078431, 0.70980392, 0.52941176]],\n",
       "\n",
       "       [[0.59215686, 0.59607843, 0.58039216],\n",
       "        [0.34117647, 0.34117647, 0.32156863],\n",
       "        [0.33333333, 0.3372549 , 0.32156863],\n",
       "        ...,\n",
       "        [0.69411765, 0.69019608, 0.49803922],\n",
       "        [0.70196078, 0.69803922, 0.51372549],\n",
       "        [0.69803922, 0.68627451, 0.49803922]],\n",
       "\n",
       "       [[0.38431373, 0.37254902, 0.34509804],\n",
       "        [0.31764706, 0.32941176, 0.31764706],\n",
       "        [0.31764706, 0.35686275, 0.36470588],\n",
       "        ...,\n",
       "        [0.73333333, 0.71372549, 0.5254902 ],\n",
       "        [0.67058824, 0.67843137, 0.48627451],\n",
       "        [0.62745098, 0.63921569, 0.45098039]],\n",
       "\n",
       "       ...,\n",
       "\n",
       "       [[0.55294118, 0.57647059, 0.41176471],\n",
       "        [0.44313725, 0.46666667, 0.29411765],\n",
       "        [0.57254902, 0.60392157, 0.41176471],\n",
       "        ...,\n",
       "        [0.35294118, 0.45098039, 0.31764706],\n",
       "        [0.37254902, 0.43137255, 0.36470588],\n",
       "        [0.18823529, 0.24705882, 0.21568627]],\n",
       "\n",
       "       [[0.62352941, 0.62745098, 0.43529412],\n",
       "        [0.61568627, 0.63137255, 0.43921569],\n",
       "        [0.65882353, 0.67843137, 0.51372549],\n",
       "        ...,\n",
       "        [0.41960784, 0.50196078, 0.33333333],\n",
       "        [0.49803922, 0.5372549 , 0.43137255],\n",
       "        [0.49803922, 0.51372549, 0.41568627]],\n",
       "\n",
       "       [[0.61176471, 0.59607843, 0.39607843],\n",
       "        [0.60392157, 0.63137255, 0.41960784],\n",
       "        [0.5372549 , 0.55686275, 0.38823529],\n",
       "        ...,\n",
       "        [0.31372549, 0.39607843, 0.25882353],\n",
       "        [0.27058824, 0.3372549 , 0.23529412],\n",
       "        [0.39607843, 0.41960784, 0.30980392]]])"
      ]
     },
     "execution_count": 35,
     "metadata": {},
     "output_type": "execute_result"
    }
   ],
   "source": [
    "images[0]"
   ]
  },
  {
   "cell_type": "code",
   "execution_count": 36,
   "metadata": {},
   "outputs": [],
   "source": [
    "labels = np.array(labels)"
   ]
  },
  {
   "cell_type": "code",
   "execution_count": 37,
   "metadata": {},
   "outputs": [
    {
     "data": {
      "text/plain": [
       "(10000, 64, 64, 3)"
      ]
     },
     "execution_count": 37,
     "metadata": {},
     "output_type": "execute_result"
    }
   ],
   "source": [
    "images.shape"
   ]
  },
  {
   "cell_type": "code",
   "execution_count": 38,
   "metadata": {},
   "outputs": [],
   "source": [
    "X_train = images[:8000]\n",
    "y_train = labels[:8000]\n",
    "X_test = images[8000:]\n",
    "y_test = labels[8000:]"
   ]
  },
  {
   "cell_type": "markdown",
   "metadata": {},
   "source": [
    "# Basic Neural Network\n",
    "\n",
    "\n",
    "One image is 64x64x3 = \n",
    "\n",
    "Layers:\n",
    "- Preprocesing: Flatten 64x64x3 -> 12288\n",
    "- Deep layers ... \n",
    "- Final layer: 1 neuron (0 = cat, 1 = dog)\n",
    "\n"
   ]
  },
  {
   "cell_type": "code",
   "execution_count": 23,
   "metadata": {},
   "outputs": [],
   "source": [
    "from tensorflow import keras\n",
    "from tensorflow.keras import layers"
   ]
  },
  {
   "cell_type": "code",
   "execution_count": 45,
   "metadata": {},
   "outputs": [
    {
     "name": "stdout",
     "output_type": "stream",
     "text": [
      "Model: \"sequential_1\"\n",
      "_________________________________________________________________\n",
      "Layer (type)                 Output Shape              Param #   \n",
      "=================================================================\n",
      "flatten_1 (Flatten)          (None, 12288)             0         \n",
      "_________________________________________________________________\n",
      "dense_2 (Dense)              (None, 100)               1228900   \n",
      "_________________________________________________________________\n",
      "dense_3 (Dense)              (None, 1)                 101       \n",
      "=================================================================\n",
      "Total params: 1,229,001\n",
      "Trainable params: 1,229,001\n",
      "Non-trainable params: 0\n",
      "_________________________________________________________________\n"
     ]
    }
   ],
   "source": [
    "model = keras.Sequential(\n",
    "    [\n",
    "        layers.Flatten(input_shape=[64, 64, 3]),\n",
    "        layers.Dense(100, activation=\"relu\"),\n",
    "        layers.Dense(1, activation=\"sigmoid\"),\n",
    "    ]\n",
    ")\n",
    "model.summary()"
   ]
  },
  {
   "cell_type": "code",
   "execution_count": 46,
   "metadata": {},
   "outputs": [],
   "source": [
    "model.compile(loss=\"binary_crossentropy\", metrics=['accuracy'])"
   ]
  },
  {
   "cell_type": "code",
   "execution_count": 47,
   "metadata": {},
   "outputs": [
    {
     "name": "stdout",
     "output_type": "stream",
     "text": [
      "Epoch 1/25\n",
      "250/250 [==============================] - 1s 3ms/step - loss: 2.0542 - accuracy: 0.5060 - val_loss: 0.7598 - val_accuracy: 0.5290\n",
      "Epoch 2/25\n",
      "250/250 [==============================] - 1s 2ms/step - loss: 0.9408 - accuracy: 0.5224 - val_loss: 0.6776 - val_accuracy: 0.5685\n",
      "Epoch 3/25\n",
      "250/250 [==============================] - 1s 2ms/step - loss: 0.7326 - accuracy: 0.5441 - val_loss: 0.7165 - val_accuracy: 0.5150\n",
      "Epoch 4/25\n",
      "250/250 [==============================] - 1s 2ms/step - loss: 0.6939 - accuracy: 0.5586 - val_loss: 0.6749 - val_accuracy: 0.5810\n",
      "Epoch 5/25\n",
      "250/250 [==============================] - 1s 2ms/step - loss: 0.6838 - accuracy: 0.5765 - val_loss: 0.6803 - val_accuracy: 0.5610\n",
      "Epoch 6/25\n",
      "250/250 [==============================] - 1s 2ms/step - loss: 0.6723 - accuracy: 0.5855 - val_loss: 0.6818 - val_accuracy: 0.5615\n",
      "Epoch 7/25\n",
      "250/250 [==============================] - 1s 2ms/step - loss: 0.6619 - accuracy: 0.5991 - val_loss: 0.6838 - val_accuracy: 0.5620\n",
      "Epoch 8/25\n",
      "250/250 [==============================] - 1s 2ms/step - loss: 0.6555 - accuracy: 0.6120 - val_loss: 0.6628 - val_accuracy: 0.6055\n",
      "Epoch 9/25\n",
      "250/250 [==============================] - 1s 2ms/step - loss: 0.6511 - accuracy: 0.6229 - val_loss: 0.6644 - val_accuracy: 0.6185\n",
      "Epoch 10/25\n",
      "250/250 [==============================] - 1s 2ms/step - loss: 0.6501 - accuracy: 0.6215 - val_loss: 0.6530 - val_accuracy: 0.6070\n",
      "Epoch 11/25\n",
      "250/250 [==============================] - 1s 2ms/step - loss: 0.6463 - accuracy: 0.6236 - val_loss: 0.7178 - val_accuracy: 0.5530\n",
      "Epoch 12/25\n",
      "250/250 [==============================] - 1s 2ms/step - loss: 0.6376 - accuracy: 0.6279 - val_loss: 0.6577 - val_accuracy: 0.6115\n",
      "Epoch 13/25\n",
      "250/250 [==============================] - 1s 2ms/step - loss: 0.6363 - accuracy: 0.6332 - val_loss: 0.6486 - val_accuracy: 0.6195\n",
      "Epoch 14/25\n",
      "250/250 [==============================] - 1s 2ms/step - loss: 0.6326 - accuracy: 0.6349 - val_loss: 0.6623 - val_accuracy: 0.6160\n",
      "Epoch 15/25\n",
      "250/250 [==============================] - 1s 2ms/step - loss: 0.6280 - accuracy: 0.6414 - val_loss: 0.6549 - val_accuracy: 0.6000\n",
      "Epoch 16/25\n",
      "250/250 [==============================] - 1s 2ms/step - loss: 0.6295 - accuracy: 0.6400 - val_loss: 0.6614 - val_accuracy: 0.6045\n",
      "Epoch 17/25\n",
      "250/250 [==============================] - 1s 2ms/step - loss: 0.6249 - accuracy: 0.6417 - val_loss: 0.6545 - val_accuracy: 0.6160\n",
      "Epoch 18/25\n",
      "250/250 [==============================] - 1s 2ms/step - loss: 0.6204 - accuracy: 0.6504 - val_loss: 0.6633 - val_accuracy: 0.5950\n",
      "Epoch 19/25\n",
      "250/250 [==============================] - 1s 2ms/step - loss: 0.6183 - accuracy: 0.6503 - val_loss: 0.6761 - val_accuracy: 0.6015\n",
      "Epoch 20/25\n",
      "250/250 [==============================] - 1s 2ms/step - loss: 0.6146 - accuracy: 0.6593 - val_loss: 0.6707 - val_accuracy: 0.6005\n",
      "Epoch 21/25\n",
      "250/250 [==============================] - 1s 2ms/step - loss: 0.6147 - accuracy: 0.6559 - val_loss: 0.6608 - val_accuracy: 0.6150\n",
      "Epoch 22/25\n",
      "250/250 [==============================] - 1s 2ms/step - loss: 0.6115 - accuracy: 0.6531 - val_loss: 0.6527 - val_accuracy: 0.6110\n",
      "Epoch 23/25\n",
      "250/250 [==============================] - 1s 2ms/step - loss: 0.6097 - accuracy: 0.6597 - val_loss: 0.7268 - val_accuracy: 0.5595\n",
      "Epoch 24/25\n",
      "250/250 [==============================] - 1s 2ms/step - loss: 0.6077 - accuracy: 0.6550 - val_loss: 0.6989 - val_accuracy: 0.5930\n",
      "Epoch 25/25\n",
      "250/250 [==============================] - 1s 2ms/step - loss: 0.6060 - accuracy: 0.6561 - val_loss: 0.6489 - val_accuracy: 0.6080\n"
     ]
    }
   ],
   "source": [
    "log = model.fit(X_train, y_train, epochs=25, validation_data=(X_test, y_test))"
   ]
  },
  {
   "cell_type": "code",
   "execution_count": 48,
   "metadata": {},
   "outputs": [
    {
     "data": {
      "text/plain": [
       "{'loss': [2.0541861057281494,\n",
       "  0.9408044219017029,\n",
       "  0.732639729976654,\n",
       "  0.6939092874526978,\n",
       "  0.683777391910553,\n",
       "  0.672321081161499,\n",
       "  0.6619065403938293,\n",
       "  0.6555440425872803,\n",
       "  0.6510684490203857,\n",
       "  0.6501279473304749,\n",
       "  0.6462700963020325,\n",
       "  0.6376190185546875,\n",
       "  0.6363366842269897,\n",
       "  0.6325691938400269,\n",
       "  0.6280003190040588,\n",
       "  0.6295016407966614,\n",
       "  0.6249427199363708,\n",
       "  0.6203727126121521,\n",
       "  0.6183170676231384,\n",
       "  0.6145734190940857,\n",
       "  0.6147411465644836,\n",
       "  0.6114617586135864,\n",
       "  0.6097289323806763,\n",
       "  0.6077224612236023,\n",
       "  0.6059792041778564],\n",
       " 'accuracy': [0.5059999823570251,\n",
       "  0.5223749876022339,\n",
       "  0.5441250205039978,\n",
       "  0.5586249828338623,\n",
       "  0.5764999985694885,\n",
       "  0.5855000019073486,\n",
       "  0.5991250276565552,\n",
       "  0.6119999885559082,\n",
       "  0.6228749752044678,\n",
       "  0.6215000152587891,\n",
       "  0.6236249804496765,\n",
       "  0.6278749704360962,\n",
       "  0.6332499980926514,\n",
       "  0.6348749995231628,\n",
       "  0.6413750052452087,\n",
       "  0.6399999856948853,\n",
       "  0.6417499780654907,\n",
       "  0.6503750085830688,\n",
       "  0.6502500176429749,\n",
       "  0.659250020980835,\n",
       "  0.655875027179718,\n",
       "  0.653124988079071,\n",
       "  0.6597499847412109,\n",
       "  0.6549999713897705,\n",
       "  0.656125009059906],\n",
       " 'val_loss': [0.7598088979721069,\n",
       "  0.6775539517402649,\n",
       "  0.7165034413337708,\n",
       "  0.6748571395874023,\n",
       "  0.680296003818512,\n",
       "  0.6818150877952576,\n",
       "  0.6838483810424805,\n",
       "  0.6628096699714661,\n",
       "  0.6644071340560913,\n",
       "  0.6530169248580933,\n",
       "  0.7177683711051941,\n",
       "  0.6577184796333313,\n",
       "  0.6485927700996399,\n",
       "  0.6622686386108398,\n",
       "  0.6549068093299866,\n",
       "  0.6614027619361877,\n",
       "  0.6545169353485107,\n",
       "  0.663332998752594,\n",
       "  0.6760899424552917,\n",
       "  0.6707484722137451,\n",
       "  0.6608486175537109,\n",
       "  0.6526921391487122,\n",
       "  0.7267588973045349,\n",
       "  0.6988701224327087,\n",
       "  0.6489403247833252],\n",
       " 'val_accuracy': [0.5289999842643738,\n",
       "  0.5684999823570251,\n",
       "  0.5149999856948853,\n",
       "  0.5809999704360962,\n",
       "  0.5609999895095825,\n",
       "  0.5615000128746033,\n",
       "  0.5619999766349792,\n",
       "  0.6054999828338623,\n",
       "  0.6184999942779541,\n",
       "  0.6069999933242798,\n",
       "  0.5529999732971191,\n",
       "  0.6115000247955322,\n",
       "  0.6194999814033508,\n",
       "  0.6159999966621399,\n",
       "  0.6000000238418579,\n",
       "  0.6044999957084656,\n",
       "  0.6159999966621399,\n",
       "  0.5950000286102295,\n",
       "  0.6014999747276306,\n",
       "  0.6004999876022339,\n",
       "  0.6150000095367432,\n",
       "  0.6110000014305115,\n",
       "  0.559499979019165,\n",
       "  0.5929999947547913,\n",
       "  0.6079999804496765]}"
      ]
     },
     "execution_count": 48,
     "metadata": {},
     "output_type": "execute_result"
    }
   ],
   "source": [
    "log.history"
   ]
  },
  {
   "cell_type": "code",
   "execution_count": 50,
   "metadata": {},
   "outputs": [
    {
     "data": {
      "text/plain": [
       "[<matplotlib.lines.Line2D at 0x7fb73425eb20>]"
      ]
     },
     "execution_count": 50,
     "metadata": {},
     "output_type": "execute_result"
    },
    {
     "data": {
      "image/png": "[encoded data removed]",
      "text/plain": [
       "<Figure size 432x288 with 1 Axes>"
      ]
     },
     "metadata": {
      "needs_background": "light"
     },
     "output_type": "display_data"
    }
   ],
   "source": [
    "plt.plot(log.history['loss'])\n",
    "plt.plot(log.history['val_loss'])"
   ]
  },
  {
   "cell_type": "code",
   "execution_count": 53,
   "metadata": {},
   "outputs": [
    {
     "data": {
      "text/plain": [
       "[<matplotlib.lines.Line2D at 0x7fb7341624c0>]"
      ]
     },
     "execution_count": 53,
     "metadata": {},
     "output_type": "execute_result"
    },
    {
     "data": {
      "image/png": "[encoded data removed]",
      "text/plain": [
       "<Figure size 432x288 with 1 Axes>"
      ]
     },
     "metadata": {
      "needs_background": "light"
     },
     "output_type": "display_data"
    }
   ],
   "source": [
    "plt.plot(log.history['accuracy']) #blue\n",
    "plt.plot(log.history['val_accuracy'])"
   ]
  },
  {
   "cell_type": "markdown",
   "metadata": {},
   "source": [
    "## Deeeeeper"
   ]
  },
  {
   "cell_type": "code",
   "execution_count": 63,
   "metadata": {},
   "outputs": [
    {
     "name": "stdout",
     "output_type": "stream",
     "text": [
      "Model: \"sequential_6\"\n",
      "_________________________________________________________________\n",
      "Layer (type)                 Output Shape              Param #   \n",
      "=================================================================\n",
      "flatten_6 (Flatten)          (None, 12288)             0         \n",
      "_________________________________________________________________\n",
      "dense_24 (Dense)             (None, 1000)              12289000  \n",
      "_________________________________________________________________\n",
      "dense_25 (Dense)             (None, 100)               100100    \n",
      "_________________________________________________________________\n",
      "dense_26 (Dense)             (None, 100)               10100     \n",
      "_________________________________________________________________\n",
      "dense_27 (Dense)             (None, 100)               10100     \n",
      "_________________________________________________________________\n",
      "dense_28 (Dense)             (None, 1)                 101       \n",
      "=================================================================\n",
      "Total params: 12,409,401\n",
      "Trainable params: 12,409,401\n",
      "Non-trainable params: 0\n",
      "_________________________________________________________________\n"
     ]
    }
   ],
   "source": [
    "model = keras.Sequential(\n",
    "    [\n",
    "        layers.Flatten(input_shape=[64, 64, 3]),\n",
    "        layers.Dense(1000, activation=\"relu\"),\n",
    "        layers.Dense(100, activation=\"relu\"),\n",
    "        layers.Dense(100, activation=\"relu\"),\n",
    "        layers.Dense(100, activation=\"relu\"),\n",
    "        layers.Dense(1, activation=\"sigmoid\"),\n",
    "    ]\n",
    ")\n",
    "model.summary()"
   ]
  },
  {
   "cell_type": "code",
   "execution_count": 64,
   "metadata": {},
   "outputs": [
    {
     "name": "stdout",
     "output_type": "stream",
     "text": [
      "Epoch 1/50\n",
      "  1/250 [..............................] - ETA: 1s - loss: 0.7027 - accuracy: 0.4375WARNING:tensorflow:Callbacks method `on_train_batch_end` is slow compared to the batch time (batch time: 0.0021s vs `on_train_batch_end` time: 0.0041s). Check your callbacks.\n"
     ]
    },
    {
     "name": "stderr",
     "output_type": "stream",
     "text": [
      "WARNING:tensorflow:Callbacks method `on_train_batch_end` is slow compared to the batch time (batch time: 0.0021s vs `on_train_batch_end` time: 0.0041s). Check your callbacks.\n"
     ]
    },
    {
     "name": "stdout",
     "output_type": "stream",
     "text": [
      "250/250 [==============================] - 2s 7ms/step - loss: 1.0454 - accuracy: 0.5069 - val_loss: 0.7008 - val_accuracy: 0.4705\n",
      "Epoch 2/50\n",
      "250/250 [==============================] - 2s 7ms/step - loss: 0.7004 - accuracy: 0.5259 - val_loss: 0.6973 - val_accuracy: 0.4940\n",
      "Epoch 3/50\n",
      "250/250 [==============================] - 2s 7ms/step - loss: 0.6828 - accuracy: 0.5621 - val_loss: 0.6772 - val_accuracy: 0.5780\n",
      "Epoch 4/50\n",
      "250/250 [==============================] - 2s 7ms/step - loss: 0.6711 - accuracy: 0.5806 - val_loss: 0.6909 - val_accuracy: 0.6145\n",
      "Epoch 5/50\n",
      "250/250 [==============================] - 2s 7ms/step - loss: 0.6657 - accuracy: 0.6015 - val_loss: 0.7429 - val_accuracy: 0.5660\n",
      "Epoch 6/50\n",
      "250/250 [==============================] - 2s 7ms/step - loss: 0.6644 - accuracy: 0.6065 - val_loss: 0.6576 - val_accuracy: 0.6050\n",
      "Epoch 7/50\n",
      "250/250 [==============================] - 2s 7ms/step - loss: 0.6576 - accuracy: 0.6134 - val_loss: 0.6864 - val_accuracy: 0.5760\n",
      "Epoch 8/50\n",
      "250/250 [==============================] - 2s 7ms/step - loss: 0.6522 - accuracy: 0.6215 - val_loss: 0.6545 - val_accuracy: 0.5980\n",
      "Epoch 9/50\n",
      "250/250 [==============================] - 2s 7ms/step - loss: 0.6478 - accuracy: 0.6258 - val_loss: 0.6952 - val_accuracy: 0.6130\n",
      "Epoch 10/50\n",
      "250/250 [==============================] - 2s 7ms/step - loss: 0.6464 - accuracy: 0.6227 - val_loss: 0.6503 - val_accuracy: 0.6120\n",
      "Epoch 11/50\n",
      "250/250 [==============================] - 2s 7ms/step - loss: 0.6446 - accuracy: 0.6380 - val_loss: 0.6566 - val_accuracy: 0.6125\n",
      "Epoch 12/50\n",
      "250/250 [==============================] - 2s 7ms/step - loss: 0.6349 - accuracy: 0.6339 - val_loss: 0.6469 - val_accuracy: 0.6245\n",
      "Epoch 13/50\n",
      "250/250 [==============================] - 2s 7ms/step - loss: 0.6449 - accuracy: 0.6382 - val_loss: 0.6504 - val_accuracy: 0.6245\n",
      "Epoch 14/50\n",
      "250/250 [==============================] - 2s 7ms/step - loss: 0.6295 - accuracy: 0.6426 - val_loss: 0.6446 - val_accuracy: 0.6205\n",
      "Epoch 15/50\n",
      "250/250 [==============================] - 2s 7ms/step - loss: 0.6232 - accuracy: 0.6541 - val_loss: 0.6430 - val_accuracy: 0.6200\n",
      "Epoch 16/50\n",
      "250/250 [==============================] - 2s 7ms/step - loss: 0.6196 - accuracy: 0.6531 - val_loss: 0.6733 - val_accuracy: 0.6285\n",
      "Epoch 17/50\n",
      "250/250 [==============================] - 2s 7ms/step - loss: 0.6208 - accuracy: 0.6549 - val_loss: 0.7055 - val_accuracy: 0.6205\n",
      "Epoch 18/50\n",
      "250/250 [==============================] - 2s 7ms/step - loss: 0.6147 - accuracy: 0.6576 - val_loss: 0.7395 - val_accuracy: 0.6265\n",
      "Epoch 19/50\n",
      "250/250 [==============================] - 2s 7ms/step - loss: 0.6140 - accuracy: 0.6556 - val_loss: 0.6785 - val_accuracy: 0.6355\n",
      "Epoch 20/50\n",
      "250/250 [==============================] - 2s 7ms/step - loss: 0.6095 - accuracy: 0.6625 - val_loss: 0.6656 - val_accuracy: 0.6180\n",
      "Epoch 21/50\n",
      "250/250 [==============================] - 2s 7ms/step - loss: 0.6109 - accuracy: 0.6619 - val_loss: 0.7204 - val_accuracy: 0.5965\n",
      "Epoch 22/50\n",
      "250/250 [==============================] - 2s 7ms/step - loss: 0.6034 - accuracy: 0.6691 - val_loss: 0.7927 - val_accuracy: 0.5965\n",
      "Epoch 23/50\n",
      "250/250 [==============================] - 2s 7ms/step - loss: 0.6053 - accuracy: 0.6704 - val_loss: 0.6995 - val_accuracy: 0.6220\n",
      "Epoch 24/50\n",
      "250/250 [==============================] - 2s 7ms/step - loss: 0.5956 - accuracy: 0.6775 - val_loss: 0.7655 - val_accuracy: 0.5840\n",
      "Epoch 25/50\n",
      "250/250 [==============================] - 2s 7ms/step - loss: 0.6018 - accuracy: 0.6719 - val_loss: 0.7160 - val_accuracy: 0.6085\n",
      "Epoch 26/50\n",
      "250/250 [==============================] - 2s 7ms/step - loss: 0.6020 - accuracy: 0.6752 - val_loss: 0.8301 - val_accuracy: 0.6230\n",
      "Epoch 27/50\n",
      "250/250 [==============================] - 2s 7ms/step - loss: 0.5966 - accuracy: 0.6761 - val_loss: 0.7892 - val_accuracy: 0.5955\n",
      "Epoch 28/50\n",
      "250/250 [==============================] - 2s 7ms/step - loss: 0.6011 - accuracy: 0.6730 - val_loss: 0.7766 - val_accuracy: 0.6480\n",
      "Epoch 29/50\n",
      "250/250 [==============================] - 2s 7ms/step - loss: 0.5917 - accuracy: 0.6793 - val_loss: 0.7607 - val_accuracy: 0.6280\n",
      "Epoch 30/50\n",
      "250/250 [==============================] - 2s 7ms/step - loss: 0.6010 - accuracy: 0.6795 - val_loss: 0.6720 - val_accuracy: 0.6380\n",
      "Epoch 31/50\n",
      "250/250 [==============================] - 2s 7ms/step - loss: 0.5857 - accuracy: 0.6842 - val_loss: 1.7245 - val_accuracy: 0.5180\n",
      "Epoch 32/50\n",
      "250/250 [==============================] - 2s 7ms/step - loss: 0.5872 - accuracy: 0.6830 - val_loss: 0.7802 - val_accuracy: 0.6265\n",
      "Epoch 33/50\n",
      "250/250 [==============================] - 2s 7ms/step - loss: 0.5912 - accuracy: 0.6758 - val_loss: 1.1872 - val_accuracy: 0.6240\n",
      "Epoch 34/50\n",
      "250/250 [==============================] - 2s 7ms/step - loss: 0.5768 - accuracy: 0.6856 - val_loss: 0.7525 - val_accuracy: 0.6395\n",
      "Epoch 35/50\n",
      "250/250 [==============================] - 2s 7ms/step - loss: 0.5824 - accuracy: 0.6846 - val_loss: 0.9686 - val_accuracy: 0.5950\n",
      "Epoch 36/50\n",
      "250/250 [==============================] - 2s 7ms/step - loss: 0.5873 - accuracy: 0.6934 - val_loss: 1.0653 - val_accuracy: 0.6335\n",
      "Epoch 37/50\n",
      "250/250 [==============================] - 2s 7ms/step - loss: 0.5801 - accuracy: 0.6944 - val_loss: 0.8226 - val_accuracy: 0.5985\n",
      "Epoch 38/50\n",
      "250/250 [==============================] - 2s 7ms/step - loss: 0.5663 - accuracy: 0.6985 - val_loss: 0.7378 - val_accuracy: 0.6350\n",
      "Epoch 39/50\n",
      "250/250 [==============================] - 2s 7ms/step - loss: 0.5716 - accuracy: 0.7009 - val_loss: 0.9394 - val_accuracy: 0.6485\n",
      "Epoch 40/50\n",
      "250/250 [==============================] - 2s 7ms/step - loss: 0.5651 - accuracy: 0.7038 - val_loss: 0.9020 - val_accuracy: 0.6350\n",
      "Epoch 41/50\n",
      "250/250 [==============================] - 2s 7ms/step - loss: 0.5649 - accuracy: 0.7036 - val_loss: 0.8469 - val_accuracy: 0.6165\n",
      "Epoch 42/50\n",
      "250/250 [==============================] - 2s 7ms/step - loss: 0.5721 - accuracy: 0.7079 - val_loss: 0.8489 - val_accuracy: 0.6380\n",
      "Epoch 43/50\n",
      "250/250 [==============================] - 2s 7ms/step - loss: 0.5612 - accuracy: 0.7078 - val_loss: 0.7332 - val_accuracy: 0.6220\n",
      "Epoch 44/50\n",
      "250/250 [==============================] - 2s 7ms/step - loss: 0.5562 - accuracy: 0.7110 - val_loss: 0.9253 - val_accuracy: 0.6210\n",
      "Epoch 45/50\n",
      "250/250 [==============================] - 2s 7ms/step - loss: 0.5595 - accuracy: 0.7149 - val_loss: 1.0140 - val_accuracy: 0.6310\n",
      "Epoch 46/50\n",
      "250/250 [==============================] - 2s 7ms/step - loss: 0.5490 - accuracy: 0.7185 - val_loss: 1.1333 - val_accuracy: 0.6265\n",
      "Epoch 47/50\n",
      "250/250 [==============================] - 2s 7ms/step - loss: 0.5597 - accuracy: 0.7150 - val_loss: 0.7620 - val_accuracy: 0.6420\n",
      "Epoch 48/50\n",
      "250/250 [==============================] - 2s 7ms/step - loss: 0.5408 - accuracy: 0.7219 - val_loss: 0.9781 - val_accuracy: 0.5660\n",
      "Epoch 49/50\n",
      "250/250 [==============================] - 2s 7ms/step - loss: 0.5630 - accuracy: 0.7200 - val_loss: 0.7641 - val_accuracy: 0.6495\n",
      "Epoch 50/50\n",
      "250/250 [==============================] - 2s 6ms/step - loss: 0.5532 - accuracy: 0.7220 - val_loss: 1.0626 - val_accuracy: 0.6235\n"
     ]
    }
   ],
   "source": [
    "model.compile(loss=\"binary_crossentropy\", metrics=['accuracy'])\n",
    "log = model.fit(X_train, y_train, epochs=25, validation_data=(X_test, y_test))"
   ]
  },
  {
   "cell_type": "code",
   "execution_count": 65,
   "metadata": {},
   "outputs": [
    {
     "data": {
      "text/plain": [
       "[<matplotlib.lines.Line2D at 0x7fb734605ca0>]"
      ]
     },
     "execution_count": 65,
     "metadata": {},
     "output_type": "execute_result"
    },
    {
     "data": {
      "image/png": "[encoded data removed]",
      "text/plain": [
       "<Figure size 432x288 with 1 Axes>"
      ]
     },
     "metadata": {
      "needs_background": "light"
     },
     "output_type": "display_data"
    }
   ],
   "source": [
    "plt.plot(log.history['accuracy']) #blue\n",
    "plt.plot(log.history['val_accuracy'])"
   ]
  },
  {
   "cell_type": "markdown",
   "metadata": {},
   "source": [
    "# Deeper + dropout"
   ]
  },
  {
   "cell_type": "code",
   "execution_count": 66,
   "metadata": {},
   "outputs": [
    {
     "name": "stdout",
     "output_type": "stream",
     "text": [
      "Model: \"sequential_7\"\n",
      "_________________________________________________________________\n",
      "Layer (type)                 Output Shape              Param #   \n",
      "=================================================================\n",
      "flatten_7 (Flatten)          (None, 12288)             0         \n",
      "_________________________________________________________________\n",
      "dense_29 (Dense)             (None, 1000)              12289000  \n",
      "_________________________________________________________________\n",
      "dropout (Dropout)            (None, 1000)              0         \n",
      "_________________________________________________________________\n",
      "dense_30 (Dense)             (None, 100)               100100    \n",
      "_________________________________________________________________\n",
      "dense_31 (Dense)             (None, 100)               10100     \n",
      "_________________________________________________________________\n",
      "dropout_1 (Dropout)          (None, 100)               0         \n",
      "_________________________________________________________________\n",
      "dense_32 (Dense)             (None, 100)               10100     \n",
      "_________________________________________________________________\n",
      "dense_33 (Dense)             (None, 1)                 101       \n",
      "=================================================================\n",
      "Total params: 12,409,401\n",
      "Trainable params: 12,409,401\n",
      "Non-trainable params: 0\n",
      "_________________________________________________________________\n"
     ]
    }
   ],
   "source": [
    "model = keras.Sequential(\n",
    "    [\n",
    "        layers.Flatten(input_shape=[64, 64, 3]),\n",
    "        layers.Dense(1000, activation=\"relu\"),\n",
    "        layers.Dropout(0.3),\n",
    "        layers.Dense(100, activation=\"relu\"),\n",
    "        layers.Dense(100, activation=\"relu\"),\n",
    "        layers.Dropout(0.3),\n",
    "        layers.Dense(100, activation=\"relu\"),\n",
    "        layers.Dense(1, activation=\"sigmoid\"),\n",
    "    ]\n",
    ")\n",
    "model.summary()"
   ]
  },
  {
   "cell_type": "code",
   "execution_count": 67,
   "metadata": {},
   "outputs": [
    {
     "name": "stdout",
     "output_type": "stream",
     "text": [
      "Epoch 1/50\n",
      "  1/250 [..............................] - ETA: 1s - loss: 0.7690 - accuracy: 0.3750WARNING:tensorflow:Callbacks method `on_train_batch_end` is slow compared to the batch time (batch time: 0.0019s vs `on_train_batch_end` time: 0.0046s). Check your callbacks.\n"
     ]
    },
    {
     "name": "stderr",
     "output_type": "stream",
     "text": [
      "WARNING:tensorflow:Callbacks method `on_train_batch_end` is slow compared to the batch time (batch time: 0.0019s vs `on_train_batch_end` time: 0.0046s). Check your callbacks.\n"
     ]
    },
    {
     "name": "stdout",
     "output_type": "stream",
     "text": [
      "250/250 [==============================] - 2s 7ms/step - loss: 0.9831 - accuracy: 0.4936 - val_loss: 0.6929 - val_accuracy: 0.5120\n",
      "Epoch 2/50\n",
      "250/250 [==============================] - 2s 7ms/step - loss: 0.7149 - accuracy: 0.5092 - val_loss: 0.6933 - val_accuracy: 0.4850\n",
      "Epoch 3/50\n",
      "250/250 [==============================] - 2s 7ms/step - loss: 0.7071 - accuracy: 0.4983 - val_loss: 0.6930 - val_accuracy: 0.5150\n",
      "Epoch 4/50\n",
      "250/250 [==============================] - 2s 7ms/step - loss: 0.7005 - accuracy: 0.5046 - val_loss: 0.6932 - val_accuracy: 0.4875\n",
      "Epoch 5/50\n",
      "250/250 [==============================] - 2s 7ms/step - loss: 0.6980 - accuracy: 0.5015 - val_loss: 0.6933 - val_accuracy: 0.4875\n",
      "Epoch 6/50\n",
      "250/250 [==============================] - 2s 7ms/step - loss: 0.6971 - accuracy: 0.5030 - val_loss: 0.6921 - val_accuracy: 0.4870\n",
      "Epoch 7/50\n",
      "250/250 [==============================] - 2s 7ms/step - loss: 0.6910 - accuracy: 0.5297 - val_loss: 0.6882 - val_accuracy: 0.5445\n",
      "Epoch 8/50\n",
      "250/250 [==============================] - 2s 7ms/step - loss: 0.6876 - accuracy: 0.5520 - val_loss: 0.6875 - val_accuracy: 0.5495\n",
      "Epoch 9/50\n",
      "250/250 [==============================] - 2s 7ms/step - loss: 0.6809 - accuracy: 0.5648 - val_loss: 0.6757 - val_accuracy: 0.5970\n",
      "Epoch 10/50\n",
      "250/250 [==============================] - 2s 7ms/step - loss: 0.6712 - accuracy: 0.5935 - val_loss: 0.6762 - val_accuracy: 0.5715\n",
      "Epoch 11/50\n",
      "250/250 [==============================] - 2s 7ms/step - loss: 0.6707 - accuracy: 0.5880 - val_loss: 0.6654 - val_accuracy: 0.5895\n",
      "Epoch 12/50\n",
      "250/250 [==============================] - 2s 7ms/step - loss: 0.6649 - accuracy: 0.6001 - val_loss: 0.6651 - val_accuracy: 0.5920\n",
      "Epoch 13/50\n",
      "250/250 [==============================] - 2s 7ms/step - loss: 0.6648 - accuracy: 0.5974 - val_loss: 0.6738 - val_accuracy: 0.5895\n",
      "Epoch 14/50\n",
      "250/250 [==============================] - 2s 7ms/step - loss: 0.6609 - accuracy: 0.6053 - val_loss: 0.6600 - val_accuracy: 0.6180\n",
      "Epoch 15/50\n",
      "250/250 [==============================] - 2s 7ms/step - loss: 0.6571 - accuracy: 0.6102 - val_loss: 0.6520 - val_accuracy: 0.6210\n",
      "Epoch 16/50\n",
      "250/250 [==============================] - 2s 7ms/step - loss: 0.6559 - accuracy: 0.6022 - val_loss: 0.6626 - val_accuracy: 0.6095\n",
      "Epoch 17/50\n",
      "250/250 [==============================] - 2s 7ms/step - loss: 0.6541 - accuracy: 0.6151 - val_loss: 0.6650 - val_accuracy: 0.6005\n",
      "Epoch 18/50\n",
      "250/250 [==============================] - 2s 7ms/step - loss: 0.6526 - accuracy: 0.6133 - val_loss: 0.6554 - val_accuracy: 0.6150\n",
      "Epoch 19/50\n",
      "250/250 [==============================] - 2s 7ms/step - loss: 0.6501 - accuracy: 0.6225 - val_loss: 0.6657 - val_accuracy: 0.5965\n",
      "Epoch 20/50\n",
      "250/250 [==============================] - 2s 7ms/step - loss: 0.6474 - accuracy: 0.6242 - val_loss: 0.6473 - val_accuracy: 0.6190\n",
      "Epoch 21/50\n",
      "250/250 [==============================] - 2s 7ms/step - loss: 0.6459 - accuracy: 0.6241 - val_loss: 0.6560 - val_accuracy: 0.6050\n",
      "Epoch 22/50\n",
      "250/250 [==============================] - 2s 7ms/step - loss: 0.6424 - accuracy: 0.6316 - val_loss: 0.6480 - val_accuracy: 0.6115\n",
      "Epoch 23/50\n",
      "250/250 [==============================] - 2s 7ms/step - loss: 0.6437 - accuracy: 0.6249 - val_loss: 0.6472 - val_accuracy: 0.6210\n",
      "Epoch 24/50\n",
      "250/250 [==============================] - 2s 7ms/step - loss: 0.6455 - accuracy: 0.6249 - val_loss: 0.6501 - val_accuracy: 0.6230\n",
      "Epoch 25/50\n",
      "250/250 [==============================] - 2s 7ms/step - loss: 0.6409 - accuracy: 0.6275 - val_loss: 0.6408 - val_accuracy: 0.6265\n",
      "Epoch 26/50\n",
      "250/250 [==============================] - 2s 7ms/step - loss: 0.6314 - accuracy: 0.6364 - val_loss: 0.6441 - val_accuracy: 0.6275\n",
      "Epoch 27/50\n",
      "250/250 [==============================] - 2s 7ms/step - loss: 0.6326 - accuracy: 0.6351 - val_loss: 0.6522 - val_accuracy: 0.6030\n",
      "Epoch 28/50\n",
      "250/250 [==============================] - 2s 7ms/step - loss: 0.6332 - accuracy: 0.6373 - val_loss: 0.6508 - val_accuracy: 0.6100\n",
      "Epoch 29/50\n",
      "250/250 [==============================] - 2s 7ms/step - loss: 0.6364 - accuracy: 0.6326 - val_loss: 0.6520 - val_accuracy: 0.6070\n",
      "Epoch 30/50\n",
      "250/250 [==============================] - 2s 7ms/step - loss: 0.6331 - accuracy: 0.6301 - val_loss: 0.6494 - val_accuracy: 0.6180\n",
      "Epoch 31/50\n",
      "250/250 [==============================] - 2s 7ms/step - loss: 0.6267 - accuracy: 0.6421 - val_loss: 0.6785 - val_accuracy: 0.6075\n",
      "Epoch 32/50\n",
      "250/250 [==============================] - 2s 7ms/step - loss: 0.6213 - accuracy: 0.6463 - val_loss: 0.6482 - val_accuracy: 0.6025\n",
      "Epoch 33/50\n",
      "250/250 [==============================] - 2s 7ms/step - loss: 0.6254 - accuracy: 0.6399 - val_loss: 0.6800 - val_accuracy: 0.5760\n",
      "Epoch 34/50\n",
      "250/250 [==============================] - 2s 7ms/step - loss: 0.6230 - accuracy: 0.6480 - val_loss: 0.6454 - val_accuracy: 0.6225\n",
      "Epoch 35/50\n",
      "250/250 [==============================] - 2s 7ms/step - loss: 0.6230 - accuracy: 0.6446 - val_loss: 0.6552 - val_accuracy: 0.6075\n",
      "Epoch 36/50\n",
      "250/250 [==============================] - 2s 7ms/step - loss: 0.6209 - accuracy: 0.6439 - val_loss: 0.6531 - val_accuracy: 0.6050\n",
      "Epoch 37/50\n",
      "250/250 [==============================] - 2s 7ms/step - loss: 0.6192 - accuracy: 0.6435 - val_loss: 0.6519 - val_accuracy: 0.6010\n",
      "Epoch 38/50\n",
      "250/250 [==============================] - 2s 7ms/step - loss: 0.6161 - accuracy: 0.6509 - val_loss: 0.6441 - val_accuracy: 0.6260\n",
      "Epoch 39/50\n",
      "250/250 [==============================] - 2s 7ms/step - loss: 0.6152 - accuracy: 0.6496 - val_loss: 0.6459 - val_accuracy: 0.6095\n",
      "Epoch 40/50\n",
      "250/250 [==============================] - 2s 7ms/step - loss: 0.6134 - accuracy: 0.6506 - val_loss: 0.6512 - val_accuracy: 0.6150\n",
      "Epoch 41/50\n",
      "250/250 [==============================] - 2s 7ms/step - loss: 0.6095 - accuracy: 0.6594 - val_loss: 0.6492 - val_accuracy: 0.6115\n",
      "Epoch 42/50\n",
      "250/250 [==============================] - 2s 7ms/step - loss: 0.6145 - accuracy: 0.6445 - val_loss: 0.6472 - val_accuracy: 0.6180\n",
      "Epoch 43/50\n",
      "250/250 [==============================] - 2s 7ms/step - loss: 0.6105 - accuracy: 0.6538 - val_loss: 0.6529 - val_accuracy: 0.6100\n",
      "Epoch 44/50\n",
      "250/250 [==============================] - 2s 7ms/step - loss: 0.6028 - accuracy: 0.6607 - val_loss: 0.6505 - val_accuracy: 0.6175\n",
      "Epoch 45/50\n",
      "250/250 [==============================] - 2s 7ms/step - loss: 0.6047 - accuracy: 0.6564 - val_loss: 0.6493 - val_accuracy: 0.6145\n",
      "Epoch 46/50\n",
      "250/250 [==============================] - 2s 7ms/step - loss: 0.6075 - accuracy: 0.6595 - val_loss: 0.6490 - val_accuracy: 0.6070\n",
      "Epoch 47/50\n",
      "250/250 [==============================] - 2s 7ms/step - loss: 0.6047 - accuracy: 0.6565 - val_loss: 0.6495 - val_accuracy: 0.6120\n",
      "Epoch 48/50\n",
      "250/250 [==============================] - 2s 7ms/step - loss: 0.6094 - accuracy: 0.6574 - val_loss: 0.6522 - val_accuracy: 0.6030\n",
      "Epoch 49/50\n",
      "250/250 [==============================] - 2s 7ms/step - loss: 0.5971 - accuracy: 0.6700 - val_loss: 0.6770 - val_accuracy: 0.6095\n",
      "Epoch 50/50\n",
      "250/250 [==============================] - 2s 7ms/step - loss: 0.6021 - accuracy: 0.6611 - val_loss: 0.6501 - val_accuracy: 0.6030\n"
     ]
    }
   ],
   "source": [
    "model.compile(loss=\"binary_crossentropy\", metrics=['accuracy'])\n",
    "log = model.fit(X_train, y_train, epochs=50, validation_data=(X_test, y_test))"
   ]
  },
  {
   "cell_type": "code",
   "execution_count": 68,
   "metadata": {},
   "outputs": [
    {
     "data": {
      "text/plain": [
       "[<matplotlib.lines.Line2D at 0x7fb71c404850>]"
      ]
     },
     "execution_count": 68,
     "metadata": {},
     "output_type": "execute_result"
    },
    {
     "data": {
      "image/png": "[encoded data removed]",
      "text/plain": [
       "<Figure size 432x288 with 1 Axes>"
      ]
     },
     "metadata": {
      "needs_background": "light"
     },
     "output_type": "display_data"
    }
   ],
   "source": [
    "plt.plot(log.history['accuracy']) #blue\n",
    "plt.plot(log.history['val_accuracy'])"
   ]
  },
  {
   "cell_type": "markdown",
   "metadata": {},
   "source": [
    "# Cooonvolutional FTW!"
   ]
  },
  {
   "cell_type": "code",
   "execution_count": 69,
   "metadata": {},
   "outputs": [
    {
     "name": "stdout",
     "output_type": "stream",
     "text": [
      "Model: \"sequential_8\"\n",
      "_________________________________________________________________\n",
      "Layer (type)                 Output Shape              Param #   \n",
      "=================================================================\n",
      "conv2d (Conv2D)              (None, 62, 62, 32)        896       \n",
      "_________________________________________________________________\n",
      "flatten_8 (Flatten)          (None, 123008)            0         \n",
      "_________________________________________________________________\n",
      "dense_34 (Dense)             (None, 100)               12300900  \n",
      "_________________________________________________________________\n",
      "dense_35 (Dense)             (None, 1)                 101       \n",
      "=================================================================\n",
      "Total params: 12,301,897\n",
      "Trainable params: 12,301,897\n",
      "Non-trainable params: 0\n",
      "_________________________________________________________________\n"
     ]
    }
   ],
   "source": [
    "model = keras.Sequential(\n",
    "    [\n",
    "        layers.Input(shape=[64, 64, 3]),\n",
    "        layers.Conv2D(filters=32, kernel_size=3 , activation='relu'),\n",
    "        layers.Flatten(),\n",
    "        layers.Dense(100, activation=\"relu\"),\n",
    "        layers.Dense(1, activation=\"sigmoid\"),\n",
    "    ]\n",
    ")\n",
    "model.summary()"
   ]
  },
  {
   "cell_type": "code",
   "execution_count": 70,
   "metadata": {},
   "outputs": [
    {
     "name": "stdout",
     "output_type": "stream",
     "text": [
      "Epoch 1/50\n",
      "  1/250 [..............................] - ETA: 0s - loss: 0.7189 - accuracy: 0.4375WARNING:tensorflow:Callbacks method `on_train_batch_end` is slow compared to the batch time (batch time: 0.0034s vs `on_train_batch_end` time: 0.0058s). Check your callbacks.\n"
     ]
    },
    {
     "name": "stderr",
     "output_type": "stream",
     "text": [
      "WARNING:tensorflow:Callbacks method `on_train_batch_end` is slow compared to the batch time (batch time: 0.0034s vs `on_train_batch_end` time: 0.0058s). Check your callbacks.\n"
     ]
    },
    {
     "name": "stdout",
     "output_type": "stream",
     "text": [
      "250/250 [==============================] - 2s 9ms/step - loss: 0.8671 - accuracy: 0.6340 - val_loss: 0.5875 - val_accuracy: 0.6805\n",
      "Epoch 2/50\n",
      "250/250 [==============================] - 2s 9ms/step - loss: 0.5093 - accuracy: 0.7595 - val_loss: 0.6060 - val_accuracy: 0.6815\n",
      "Epoch 3/50\n",
      "250/250 [==============================] - 2s 8ms/step - loss: 0.3848 - accuracy: 0.8279 - val_loss: 0.6747 - val_accuracy: 0.6835\n",
      "Epoch 4/50\n",
      "250/250 [==============================] - 2s 8ms/step - loss: 0.2787 - accuracy: 0.8834 - val_loss: 0.7304 - val_accuracy: 0.6745\n",
      "Epoch 5/50\n",
      "250/250 [==============================] - 2s 8ms/step - loss: 0.1756 - accuracy: 0.9327 - val_loss: 0.9443 - val_accuracy: 0.6790\n",
      "Epoch 6/50\n",
      "250/250 [==============================] - 2s 9ms/step - loss: 0.1081 - accuracy: 0.9622 - val_loss: 1.1073 - val_accuracy: 0.6695\n",
      "Epoch 7/50\n",
      "250/250 [==============================] - 2s 8ms/step - loss: 0.0621 - accuracy: 0.9806 - val_loss: 1.2684 - val_accuracy: 0.6820\n",
      "Epoch 8/50\n",
      "250/250 [==============================] - 2s 9ms/step - loss: 0.0447 - accuracy: 0.9883 - val_loss: 1.6651 - val_accuracy: 0.6725\n",
      "Epoch 9/50\n",
      "250/250 [==============================] - 2s 8ms/step - loss: 0.0339 - accuracy: 0.9912 - val_loss: 1.7170 - val_accuracy: 0.6865\n",
      "Epoch 10/50\n",
      "250/250 [==============================] - 2s 9ms/step - loss: 0.0271 - accuracy: 0.9921 - val_loss: 1.9456 - val_accuracy: 0.6660\n",
      "Epoch 11/50\n",
      "250/250 [==============================] - 2s 9ms/step - loss: 0.0179 - accuracy: 0.9949 - val_loss: 1.8850 - val_accuracy: 0.6855\n",
      "Epoch 12/50\n",
      "250/250 [==============================] - 2s 9ms/step - loss: 0.0427 - accuracy: 0.9925 - val_loss: 1.9923 - val_accuracy: 0.6925\n",
      "Epoch 13/50\n",
      "250/250 [==============================] - 2s 9ms/step - loss: 0.0275 - accuracy: 0.9941 - val_loss: 2.9204 - val_accuracy: 0.6360\n",
      "Epoch 14/50\n",
      "250/250 [==============================] - 2s 9ms/step - loss: 0.0161 - accuracy: 0.9958 - val_loss: 2.7438 - val_accuracy: 0.6665\n",
      "Epoch 15/50\n",
      "250/250 [==============================] - 2s 9ms/step - loss: 0.0281 - accuracy: 0.9951 - val_loss: 2.3555 - val_accuracy: 0.6890\n",
      "Epoch 16/50\n",
      "250/250 [==============================] - 2s 9ms/step - loss: 0.0098 - accuracy: 0.9970 - val_loss: 2.5670 - val_accuracy: 0.6850\n",
      "Epoch 17/50\n",
      "250/250 [==============================] - 2s 9ms/step - loss: 0.0208 - accuracy: 0.9965 - val_loss: 2.6116 - val_accuracy: 0.6905\n",
      "Epoch 18/50\n",
      "250/250 [==============================] - 2s 9ms/step - loss: 0.0198 - accuracy: 0.9952 - val_loss: 2.6840 - val_accuracy: 0.6765\n",
      "Epoch 19/50\n",
      "250/250 [==============================] - 2s 9ms/step - loss: 0.0136 - accuracy: 0.9966 - val_loss: 2.7191 - val_accuracy: 0.6880\n",
      "Epoch 20/50\n",
      "250/250 [==============================] - 2s 9ms/step - loss: 0.0465 - accuracy: 0.9944 - val_loss: 2.6435 - val_accuracy: 0.6740\n",
      "Epoch 21/50\n",
      "250/250 [==============================] - 2s 9ms/step - loss: 0.0096 - accuracy: 0.9974 - val_loss: 3.2026 - val_accuracy: 0.6850\n",
      "Epoch 22/50\n",
      "250/250 [==============================] - 2s 9ms/step - loss: 0.0081 - accuracy: 0.9981 - val_loss: 3.0688 - val_accuracy: 0.6795\n",
      "Epoch 23/50\n",
      "250/250 [==============================] - 2s 9ms/step - loss: 0.0100 - accuracy: 0.9977 - val_loss: 3.5449 - val_accuracy: 0.6540\n",
      "Epoch 24/50\n",
      "250/250 [==============================] - 2s 9ms/step - loss: 0.0120 - accuracy: 0.9975 - val_loss: 3.1864 - val_accuracy: 0.6855\n",
      "Epoch 25/50\n",
      "250/250 [==============================] - 2s 9ms/step - loss: 0.0117 - accuracy: 0.9979 - val_loss: 3.6669 - val_accuracy: 0.6745\n",
      "Epoch 26/50\n",
      "250/250 [==============================] - 2s 8ms/step - loss: 0.0141 - accuracy: 0.9980 - val_loss: 3.2682 - val_accuracy: 0.6895\n",
      "Epoch 27/50\n",
      "250/250 [==============================] - 2s 9ms/step - loss: 0.0094 - accuracy: 0.9981 - val_loss: 3.5004 - val_accuracy: 0.6935\n",
      "Epoch 28/50\n",
      "250/250 [==============================] - 2s 9ms/step - loss: 0.0096 - accuracy: 0.9985 - val_loss: 3.7241 - val_accuracy: 0.6780\n",
      "Epoch 29/50\n",
      "250/250 [==============================] - 2s 9ms/step - loss: 0.0380 - accuracy: 0.9942 - val_loss: 3.3029 - val_accuracy: 0.6845\n",
      "Epoch 30/50\n",
      "250/250 [==============================] - 2s 9ms/step - loss: 0.0093 - accuracy: 0.9981 - val_loss: 3.6590 - val_accuracy: 0.6780\n",
      "Epoch 31/50\n",
      "250/250 [==============================] - 2s 9ms/step - loss: 0.0521 - accuracy: 0.9960 - val_loss: 3.6737 - val_accuracy: 0.6820\n",
      "Epoch 32/50\n",
      "250/250 [==============================] - 2s 9ms/step - loss: 0.0385 - accuracy: 0.9970 - val_loss: 3.5194 - val_accuracy: 0.6815\n",
      "Epoch 33/50\n",
      "250/250 [==============================] - 2s 9ms/step - loss: 0.0300 - accuracy: 0.9984 - val_loss: 3.6753 - val_accuracy: 0.6790\n",
      "Epoch 34/50\n",
      "250/250 [==============================] - 2s 9ms/step - loss: 0.0039 - accuracy: 0.9990 - val_loss: 3.8913 - val_accuracy: 0.6710\n",
      "Epoch 35/50\n",
      "250/250 [==============================] - 2s 9ms/step - loss: 0.0025 - accuracy: 0.9994 - val_loss: 3.9056 - val_accuracy: 0.6785\n",
      "Epoch 36/50\n",
      "250/250 [==============================] - 2s 9ms/step - loss: 0.0306 - accuracy: 0.9973 - val_loss: 3.6581 - val_accuracy: 0.6660\n",
      "Epoch 37/50\n",
      "250/250 [==============================] - 2s 9ms/step - loss: 3.0846e-04 - accuracy: 0.9999 - val_loss: 4.1994 - val_accuracy: 0.6750\n",
      "Epoch 38/50\n",
      "250/250 [==============================] - 2s 9ms/step - loss: 0.0115 - accuracy: 0.9977 - val_loss: 4.3000 - val_accuracy: 0.6815\n",
      "Epoch 39/50\n",
      "250/250 [==============================] - 2s 9ms/step - loss: 0.0319 - accuracy: 0.9977 - val_loss: 4.2312 - val_accuracy: 0.6760\n",
      "Epoch 40/50\n",
      "250/250 [==============================] - 2s 9ms/step - loss: 0.0333 - accuracy: 0.9970 - val_loss: 4.3987 - val_accuracy: 0.6740\n",
      "Epoch 41/50\n",
      "250/250 [==============================] - 2s 9ms/step - loss: 0.0031 - accuracy: 0.9987 - val_loss: 3.8771 - val_accuracy: 0.6745\n",
      "Epoch 42/50\n",
      "250/250 [==============================] - 2s 9ms/step - loss: 0.0030 - accuracy: 0.9992 - val_loss: 4.0650 - val_accuracy: 0.6720\n",
      "Epoch 43/50\n",
      "250/250 [==============================] - 2s 9ms/step - loss: 0.0068 - accuracy: 0.9986 - val_loss: 4.5888 - val_accuracy: 0.6770\n",
      "Epoch 44/50\n",
      "250/250 [==============================] - 2s 9ms/step - loss: 0.0220 - accuracy: 0.9979 - val_loss: 3.9104 - val_accuracy: 0.6705\n",
      "Epoch 45/50\n",
      "250/250 [==============================] - 2s 9ms/step - loss: 4.6629e-04 - accuracy: 0.9999 - val_loss: 4.4679 - val_accuracy: 0.6665\n",
      "Epoch 46/50\n",
      "250/250 [==============================] - 2s 9ms/step - loss: 9.7662e-04 - accuracy: 0.9996 - val_loss: 4.5116 - val_accuracy: 0.6755\n",
      "Epoch 47/50\n",
      "250/250 [==============================] - 2s 9ms/step - loss: 0.0045 - accuracy: 0.9991 - val_loss: 4.4614 - val_accuracy: 0.6715\n",
      "Epoch 48/50\n",
      "250/250 [==============================] - 2s 9ms/step - loss: 0.0062 - accuracy: 0.9985 - val_loss: 4.4118 - val_accuracy: 0.6655\n",
      "Epoch 49/50\n",
      "250/250 [==============================] - 2s 9ms/step - loss: 0.0317 - accuracy: 0.9970 - val_loss: 4.2004 - val_accuracy: 0.6720\n",
      "Epoch 50/50\n",
      "250/250 [==============================] - 2s 8ms/step - loss: 0.0022 - accuracy: 0.9994 - val_loss: 4.0610 - val_accuracy: 0.6735\n"
     ]
    }
   ],
   "source": [
    "model.compile(loss=\"binary_crossentropy\", metrics=['accuracy'])\n",
    "log = model.fit(X_train, y_train, epochs=30, validation_data=(X_test, y_test))"
   ]
  },
  {
   "cell_type": "code",
   "execution_count": 71,
   "metadata": {},
   "outputs": [
    {
     "data": {
      "text/plain": [
       "[<matplotlib.lines.Line2D at 0x7fb7347fc520>]"
      ]
     },
     "execution_count": 71,
     "metadata": {},
     "output_type": "execute_result"
    },
    {
     "data": {
      "image/png": "[encoded data removed]",
      "text/plain": [
       "<Figure size 432x288 with 1 Axes>"
      ]
     },
     "metadata": {
      "needs_background": "light"
     },
     "output_type": "display_data"
    }
   ],
   "source": [
    "plt.plot(log.history['accuracy']) #blue\n",
    "plt.plot(log.history['val_accuracy'])"
   ]
  },
  {
   "cell_type": "code",
   "execution_count": 77,
   "metadata": {},
   "outputs": [
    {
     "name": "stdout",
     "output_type": "stream",
     "text": [
      "Model: \"sequential_12\"\n",
      "_________________________________________________________________\n",
      "Layer (type)                 Output Shape              Param #   \n",
      "=================================================================\n",
      "conv2d_10 (Conv2D)           (None, 62, 62, 128)       3584      \n",
      "_________________________________________________________________\n",
      "conv2d_11 (Conv2D)           (None, 30, 30, 96)        110688    \n",
      "_________________________________________________________________\n",
      "conv2d_12 (Conv2D)           (None, 14, 14, 64)        55360     \n",
      "_________________________________________________________________\n",
      "flatten_12 (Flatten)         (None, 12544)             0         \n",
      "_________________________________________________________________\n",
      "dense_42 (Dense)             (None, 100)               1254500   \n",
      "_________________________________________________________________\n",
      "dense_43 (Dense)             (None, 1)                 101       \n",
      "=================================================================\n",
      "Total params: 1,424,233\n",
      "Trainable params: 1,424,233\n",
      "Non-trainable params: 0\n",
      "_________________________________________________________________\n"
     ]
    }
   ],
   "source": [
    "model = keras.Sequential(\n",
    "    [\n",
    "        layers.Input(shape=[64, 64, 3]),\n",
    "        layers.Conv2D(filters=128, kernel_size=3 , activation='relu'),\n",
    "        layers.Conv2D(filters=96, kernel_size=3 , activation='relu', strides=2),\n",
    "        layers.Conv2D(filters=64, kernel_size=3 , activation='relu', strides=2),\n",
    "        layers.Flatten(),\n",
    "        layers.Dense(100, activation=\"relu\"),\n",
    "        layers.Dense(1, activation=\"sigmoid\"),\n",
    "    ]\n",
    ")\n",
    "model.summary()"
   ]
  },
  {
   "cell_type": "code",
   "execution_count": 78,
   "metadata": {},
   "outputs": [
    {
     "name": "stdout",
     "output_type": "stream",
     "text": [
      "Epoch 1/30\n",
      "  1/250 [..............................] - ETA: 0s - loss: 0.6907 - accuracy: 0.5312WARNING:tensorflow:Callbacks method `on_train_batch_end` is slow compared to the batch time (batch time: 0.0022s vs `on_train_batch_end` time: 0.0106s). Check your callbacks.\n"
     ]
    },
    {
     "name": "stderr",
     "output_type": "stream",
     "text": [
      "WARNING:tensorflow:Callbacks method `on_train_batch_end` is slow compared to the batch time (batch time: 0.0022s vs `on_train_batch_end` time: 0.0106s). Check your callbacks.\n"
     ]
    },
    {
     "name": "stdout",
     "output_type": "stream",
     "text": [
      "250/250 [==============================] - 3s 13ms/step - loss: 0.6892 - accuracy: 0.5717 - val_loss: 0.6660 - val_accuracy: 0.5885\n",
      "Epoch 2/30\n",
      "250/250 [==============================] - 3s 13ms/step - loss: 0.6258 - accuracy: 0.6654 - val_loss: 0.5998 - val_accuracy: 0.6680\n",
      "Epoch 3/30\n",
      "250/250 [==============================] - 3s 13ms/step - loss: 0.5694 - accuracy: 0.7128 - val_loss: 0.5788 - val_accuracy: 0.6845\n",
      "Epoch 4/30\n",
      "250/250 [==============================] - 3s 13ms/step - loss: 0.5098 - accuracy: 0.7504 - val_loss: 0.5826 - val_accuracy: 0.6825\n",
      "Epoch 5/30\n",
      "250/250 [==============================] - 3s 13ms/step - loss: 0.4398 - accuracy: 0.7946 - val_loss: 0.6224 - val_accuracy: 0.6885\n",
      "Epoch 6/30\n",
      "250/250 [==============================] - 3s 13ms/step - loss: 0.3540 - accuracy: 0.8415 - val_loss: 0.6541 - val_accuracy: 0.7180\n",
      "Epoch 7/30\n",
      "250/250 [==============================] - 3s 13ms/step - loss: 0.2574 - accuracy: 0.8924 - val_loss: 0.7788 - val_accuracy: 0.7440\n",
      "Epoch 8/30\n",
      "250/250 [==============================] - 3s 13ms/step - loss: 0.1783 - accuracy: 0.9305 - val_loss: 0.9489 - val_accuracy: 0.7115\n",
      "Epoch 9/30\n",
      "250/250 [==============================] - 3s 13ms/step - loss: 0.1160 - accuracy: 0.9569 - val_loss: 1.2186 - val_accuracy: 0.7090\n",
      "Epoch 10/30\n",
      "250/250 [==============================] - 3s 13ms/step - loss: 0.0872 - accuracy: 0.9704 - val_loss: 0.9781 - val_accuracy: 0.6915\n",
      "Epoch 11/30\n",
      "250/250 [==============================] - 3s 13ms/step - loss: 0.0659 - accuracy: 0.9797 - val_loss: 2.1244 - val_accuracy: 0.7215\n",
      "Epoch 12/30\n",
      "250/250 [==============================] - 3s 13ms/step - loss: 0.0578 - accuracy: 0.9797 - val_loss: 2.2646 - val_accuracy: 0.7220\n",
      "Epoch 13/30\n",
      "250/250 [==============================] - 3s 13ms/step - loss: 0.0643 - accuracy: 0.9829 - val_loss: 1.8284 - val_accuracy: 0.7060\n",
      "Epoch 14/30\n",
      "250/250 [==============================] - 3s 13ms/step - loss: 0.0456 - accuracy: 0.9870 - val_loss: 2.0967 - val_accuracy: 0.6530\n",
      "Epoch 15/30\n",
      "250/250 [==============================] - 3s 13ms/step - loss: 0.0650 - accuracy: 0.9840 - val_loss: 2.5366 - val_accuracy: 0.7160\n",
      "Epoch 16/30\n",
      "250/250 [==============================] - 3s 13ms/step - loss: 0.0453 - accuracy: 0.9860 - val_loss: 1.8110 - val_accuracy: 0.6835\n",
      "Epoch 17/30\n",
      "250/250 [==============================] - 3s 13ms/step - loss: 0.0515 - accuracy: 0.9851 - val_loss: 2.8602 - val_accuracy: 0.6900\n",
      "Epoch 18/30\n",
      "250/250 [==============================] - 3s 13ms/step - loss: 0.0466 - accuracy: 0.9875 - val_loss: 2.4608 - val_accuracy: 0.7110\n",
      "Epoch 19/30\n",
      "250/250 [==============================] - 3s 13ms/step - loss: 0.0508 - accuracy: 0.9872 - val_loss: 3.9433 - val_accuracy: 0.7165\n",
      "Epoch 20/30\n",
      "250/250 [==============================] - 3s 13ms/step - loss: 0.0738 - accuracy: 0.9845 - val_loss: 2.9786 - val_accuracy: 0.7060\n",
      "Epoch 21/30\n",
      "250/250 [==============================] - 3s 13ms/step - loss: 0.0675 - accuracy: 0.9877 - val_loss: 1.9119 - val_accuracy: 0.6565\n",
      "Epoch 22/30\n",
      "250/250 [==============================] - 3s 13ms/step - loss: 0.0558 - accuracy: 0.9830 - val_loss: 2.6620 - val_accuracy: 0.7030\n",
      "Epoch 23/30\n",
      "250/250 [==============================] - 3s 13ms/step - loss: 0.0762 - accuracy: 0.9814 - val_loss: 2.7979 - val_accuracy: 0.7120\n",
      "Epoch 24/30\n",
      "250/250 [==============================] - 3s 13ms/step - loss: 0.0607 - accuracy: 0.9849 - val_loss: 3.6617 - val_accuracy: 0.7115\n",
      "Epoch 25/30\n",
      "250/250 [==============================] - 3s 13ms/step - loss: 0.0764 - accuracy: 0.9815 - val_loss: 3.1864 - val_accuracy: 0.7170\n",
      "Epoch 26/30\n",
      "250/250 [==============================] - 3s 13ms/step - loss: 0.0686 - accuracy: 0.9806 - val_loss: 3.6335 - val_accuracy: 0.7035\n",
      "Epoch 27/30\n",
      "250/250 [==============================] - 3s 13ms/step - loss: 0.0802 - accuracy: 0.9808 - val_loss: 2.9285 - val_accuracy: 0.7125\n",
      "Epoch 28/30\n",
      "250/250 [==============================] - 3s 13ms/step - loss: 0.0865 - accuracy: 0.9746 - val_loss: 2.1339 - val_accuracy: 0.7005\n",
      "Epoch 29/30\n",
      "250/250 [==============================] - 3s 13ms/step - loss: 0.0817 - accuracy: 0.9830 - val_loss: 4.2441 - val_accuracy: 0.6775\n",
      "Epoch 30/30\n",
      "250/250 [==============================] - 3s 13ms/step - loss: 0.0951 - accuracy: 0.9818 - val_loss: 3.2906 - val_accuracy: 0.7045\n"
     ]
    }
   ],
   "source": [
    "model.compile(loss=\"binary_crossentropy\", metrics=['accuracy'])\n",
    "log = model.fit(X_train, y_train, epochs=30, validation_data=(X_test, y_test))"
   ]
  },
  {
   "cell_type": "code",
   "execution_count": 79,
   "metadata": {},
   "outputs": [
    {
     "data": {
      "text/plain": [
       "[<matplotlib.lines.Line2D at 0x7fb71c0423d0>]"
      ]
     },
     "execution_count": 79,
     "metadata": {},
     "output_type": "execute_result"
    },
    {
     "data": {
      "image/png": "[encoded data removed]",
      "text/plain": [
       "<Figure size 432x288 with 1 Axes>"
      ]
     },
     "metadata": {
      "needs_background": "light"
     },
     "output_type": "display_data"
    }
   ],
   "source": [
    "plt.plot(log.history['accuracy']) #blue\n",
    "plt.plot(log.history['val_accuracy'])"
   ]
  },
  {
   "cell_type": "code",
   "execution_count": null,
   "metadata": {},
   "outputs": [],
   "source": []
  }
 ],
 "metadata": {
  "kernelspec": {
   "display_name": "Python 3",
   "language": "python",
   "name": "python3"
  },
  "language_info": {
   "codemirror_mode": {
    "name": "ipython",
    "version": 3
   },
   "file_extension": ".py",
   "mimetype": "text/x-python",
   "name": "python",
   "nbconvert_exporter": "python",
   "pygments_lexer": "ipython3",
   "version": "3.8.3"
  }
 },
 "nbformat": 4,
 "nbformat_minor": 4
}
